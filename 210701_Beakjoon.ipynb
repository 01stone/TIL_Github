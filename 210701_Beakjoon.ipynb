{
 "cells": [
  {
   "cell_type": "code",
   "execution_count": 8,
   "id": "9b1546b4",
   "metadata": {},
   "outputs": [
    {
     "name": "stdout",
     "output_type": "stream",
     "text": [
      "Hello World!\n"
     ]
    }
   ],
   "source": [
    "# 2557\n",
    "\n",
    "print('Hello World!')"
   ]
  },
  {
   "cell_type": "code",
   "execution_count": 9,
   "id": "46db5bda",
   "metadata": {
    "scrolled": true
   },
   "outputs": [
    {
     "name": "stdout",
     "output_type": "stream",
     "text": [
      "강한친구 대한육군 \n",
      "강한친구 대한육군\n"
     ]
    }
   ],
   "source": [
    "# 10718\n",
    "# 두 줄에 걸쳐 \"강한친구 대한육군\"을 한 줄에 한 번씩 출력한다.\n",
    "\n",
    "print('강한친구 대한육군 \\n강한친구 대한육군')"
   ]
  },
  {
   "cell_type": "code",
   "execution_count": 17,
   "id": "77661b2e",
   "metadata": {},
   "outputs": [
    {
     "name": "stdout",
     "output_type": "stream",
     "text": [
      "\\    /\\\n",
      " )  ( ')\n",
      "(  /  )\n",
      " \\(__)|\n"
     ]
    }
   ],
   "source": [
    "# 10171\n",
    "# 아래 예제와 같이 고양이를 출력하시오.\n",
    "\n",
    "print('''\\\\    /\\\\\n",
    " )  ( ')\n",
    "(  /  )\n",
    " \\\\(__)|''')"
   ]
  },
  {
   "cell_type": "code",
   "execution_count": 18,
   "id": "f6d6cd52",
   "metadata": {
    "scrolled": true
   },
   "outputs": [
    {
     "name": "stdout",
     "output_type": "stream",
     "text": [
      "|\\_/|\n",
      "|q p|   /}\n",
      "( 0 )\"\"\"\\\n",
      "|\"^\"`    |\n",
      "||_/=\\\\__|\n"
     ]
    }
   ],
   "source": [
    "# 10172\n",
    "# 아래 예제와 같이 개를 출력하시오.\n",
    "print('''|\\\\_/|\n",
    "|q p|   /}\n",
    "( 0 )\"\"\"\\\\\n",
    "|\"^\"`    |\n",
    "||_/=\\\\\\\\__|''')"
   ]
  },
  {
   "cell_type": "code",
   "execution_count": 26,
   "id": "ad60b04c",
   "metadata": {},
   "outputs": [
    {
     "name": "stdout",
     "output_type": "stream",
     "text": [
      "1 2\n",
      "3\n"
     ]
    }
   ],
   "source": [
    "# 1000\n",
    "# 두 정수 A와 B를 입력받은 다음, A+B를 출력하는 프로그램을 작성하시오.\n",
    "'''\n",
    "입력 : 첫째 줄에 A와 B가 주어진다. (0 < A, B < 10)\n",
    "출력 : 첫째 줄에 A+B를 출력한다.\n",
    "'''\n",
    "\n",
    "'''\n",
    "# trial_1 : 런타임 에러(ValueError)\n",
    "a = int(input())\n",
    "b = int(input())\n",
    "print(a + b)\n",
    "'''\n",
    "\n",
    "#trial_2\n",
    "a, b = input().split()\n",
    "print(int(a) + int(b))"
   ]
  },
  {
   "cell_type": "code",
   "execution_count": 27,
   "id": "d9708c31",
   "metadata": {},
   "outputs": [
    {
     "name": "stdout",
     "output_type": "stream",
     "text": [
      "3 2\n",
      "1\n"
     ]
    }
   ],
   "source": [
    "# 1001\n",
    "# 두 정수 A와 B를 입력받은 다음, A-B를 출력하는 프로그램을 작성하시오.\n",
    "'''\n",
    "입력 : 첫째 줄에 A와 B가 주어진다. (0 < A, B < 10)\n",
    "출력 : 첫째 줄에 A-B를 출력한다.\n",
    "'''\n",
    "\n",
    "a, b = input().split()\n",
    "print(int(a) - int(b))"
   ]
  },
  {
   "cell_type": "code",
   "execution_count": 28,
   "id": "1542720a",
   "metadata": {},
   "outputs": [
    {
     "name": "stdout",
     "output_type": "stream",
     "text": [
      "1 2\n",
      "2\n"
     ]
    }
   ],
   "source": [
    "# 10998\n",
    "# 두 정수 A와 B를 입력받은 다음, A*B를 출력하는 프로그램을 작성하시오.\n",
    "'''\n",
    "입력 : 첫째 줄에 A와 B가 주어진다. (0 < A, B < 10)\n",
    "출력 : 첫째 줄에 A*B를 출력한다.\n",
    "'''\n",
    "\n",
    "a, b = input().split()\n",
    "print(int(a) * int(b))"
   ]
  },
  {
   "cell_type": "code",
   "execution_count": 29,
   "id": "2996d5de",
   "metadata": {},
   "outputs": [
    {
     "name": "stdout",
     "output_type": "stream",
     "text": [
      "1 3\n",
      "0.3333333333333333\n"
     ]
    }
   ],
   "source": [
    "# 10998\n",
    "# 두 정수 A와 B를 입력받은 다음, A/B를 출력하는 프로그램을 작성하시오.\n",
    "'''\n",
    "입력 : 첫째 줄에 A와 B가 주어진다. (0 < A, B < 10)\n",
    "출력 : 첫째 줄에 A/B를 출력한다.\n",
    "'''\n",
    "\n",
    "a, b = input().split()\n",
    "print(int(a) / int(b))"
   ]
  },
  {
   "cell_type": "code",
   "execution_count": 2,
   "id": "348b4f0b",
   "metadata": {},
   "outputs": [
    {
     "name": "stdout",
     "output_type": "stream",
     "text": [
      "7 3\n",
      "10\n",
      "4\n",
      "21\n",
      "2\n",
      "1\n"
     ]
    }
   ],
   "source": [
    "# 10869\n",
    "# 두 자연수 A와 B가 주어진다.\n",
    "# 이때, A+B, A-B, A*B, A/B(몫), A%B(나머지)를 출력하는 프로그램을 작성하시오.\n",
    "'''\n",
    "입력 : 두 자연수 A와 B가 주어진다. (1 ≤ A, B ≤ 10,000)\n",
    "출력 : 첫째 줄에 A+B, 둘째 줄에 A-B, \n",
    "       셋째 줄에 A*B, 넷째 줄에 A/B, 다섯째 줄에 A%B를 출력한다.\n",
    "'''\n",
    "a, b = input().split()\n",
    "print(int(a) + int(b))\n",
    "print(int(a) - int(b))\n",
    "print(int(a) * int(b))\n",
    "print(int(a) // int(b))\n",
    "print(int(a) % int(b))"
   ]
  },
  {
   "cell_type": "code",
   "execution_count": 4,
   "id": "921e5849",
   "metadata": {},
   "outputs": [
    {
     "name": "stdout",
     "output_type": "stream",
     "text": [
      "5 8 4\n",
      "1\n",
      "1\n",
      "0\n",
      "0\n"
     ]
    }
   ],
   "source": [
    "# 10430\n",
    "# (A+B)%C는 ((A%C) + (B%C))%C 와 같을까?\n",
    "# (A×B)%C는 ((A%C) × (B%C))%C 와 같을까?\n",
    "# 세 수 A, B, C가 주어졌을 때, \n",
    "# 위의 네 가지 값을 구하는 프로그램을 작성하시오.\n",
    "'''\n",
    "입력 : 첫째 줄에 A, B, C가 순서대로 주어진다. (2 ≤ A, B, C ≤ 10000)\n",
    "출력 : 첫째 줄에 (A+B)%C, 둘째 줄에 ((A%C) + (B%C))%C, 셋째 줄에 (A×B)%C,\n",
    "       넷째 줄에 ((A%C) × (B%C))%C를 출력한다.\n",
    "'''\n",
    "\n",
    "a, b, c = input().split()\n",
    "A, B, C = int(a), int(b), int(c)\n",
    "print((A + B) % C)\n",
    "print(((A % C) + (B % C)) % C)\n",
    "print((A * B) % C)\n",
    "print(((A % C) * (B % C)) % C)"
   ]
  },
  {
   "cell_type": "code",
   "execution_count": 5,
   "id": "fc130e09",
   "metadata": {},
   "outputs": [
    {
     "name": "stdout",
     "output_type": "stream",
     "text": [
      "472\n",
      "385\n",
      "2360\n",
      "3776\n",
      "1416\n",
      "181720\n"
     ]
    }
   ],
   "source": [
    "# 2588\n",
    "# (세 자리 수) × (세 자리 수)는 다음과 같은 과정을 통하여 이루어진다.\n",
    "# (1)과 (2)위치에 들어갈 세 자리 자연수가 주어질 때 \n",
    "# (3), (4), (5), (6)위치에 들어갈 값을 구하는 프로그램을 작성하시오.\n",
    "'''\n",
    "입력 : 첫째 줄에 (1)의 위치에 들어갈 세 자리 자연수가, \n",
    "       둘째 줄에 (2)의 위치에 들어갈 세자리 자연수가 주어진다.\n",
    "출력 : 첫째 줄부터 넷째 줄까지 차례대로 \n",
    "       (3), (4), (5), (6)에 들어갈 값을 출력한다.\n",
    "'''\n",
    "\n",
    "a = int(input())\n",
    "b = input()\n",
    "\n",
    "print(a * int(b[2]))\n",
    "print(a * int(b[1]))\n",
    "print(a * int(b[0]))\n",
    "print(a * int(b))"
   ]
  },
  {
   "cell_type": "code",
   "execution_count": null,
   "id": "7bf23ac9",
   "metadata": {},
   "outputs": [],
   "source": []
  },
  {
   "cell_type": "code",
   "execution_count": null,
   "id": "9a04d416",
   "metadata": {},
   "outputs": [],
   "source": []
  },
  {
   "cell_type": "code",
   "execution_count": null,
   "id": "087fb835",
   "metadata": {},
   "outputs": [],
   "source": []
  },
  {
   "cell_type": "code",
   "execution_count": null,
   "id": "e7796263",
   "metadata": {},
   "outputs": [],
   "source": []
  }
 ],
 "metadata": {
  "kernelspec": {
   "display_name": "Python [conda env:data_env] *",
   "language": "python",
   "name": "conda-env-data_env-py"
  },
  "language_info": {
   "codemirror_mode": {
    "name": "ipython",
    "version": 3
   },
   "file_extension": ".py",
   "mimetype": "text/x-python",
   "name": "python",
   "nbconvert_exporter": "python",
   "pygments_lexer": "ipython3",
   "version": "3.7.10"
  }
 },
 "nbformat": 4,
 "nbformat_minor": 5
}
